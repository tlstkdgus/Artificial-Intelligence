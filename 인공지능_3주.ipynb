{
 "cells": [
  {
   "cell_type": "code",
   "execution_count": 17,
   "id": "28f413ca-cd02-4374-bdef-2eb17f7c20b6",
   "metadata": {},
   "outputs": [
    {
     "name": "stdout",
     "output_type": "stream",
     "text": [
      "Requirement already satisfied: scikit-learn in c:\\users\\tlstk\\anaconda3\\lib\\site-packages (1.5.1)\n",
      "Requirement already satisfied: numpy>=1.19.5 in c:\\users\\tlstk\\anaconda3\\lib\\site-packages (from scikit-learn) (1.26.4)\n",
      "Requirement already satisfied: scipy>=1.6.0 in c:\\users\\tlstk\\anaconda3\\lib\\site-packages (from scikit-learn) (1.13.1)\n",
      "Requirement already satisfied: joblib>=1.2.0 in c:\\users\\tlstk\\anaconda3\\lib\\site-packages (from scikit-learn) (1.4.2)\n",
      "Requirement already satisfied: threadpoolctl>=3.1.0 in c:\\users\\tlstk\\anaconda3\\lib\\site-packages (from scikit-learn) (3.5.0)\n",
      "Note: you may need to restart the kernel to use updated packages.\n"
     ]
    }
   ],
   "source": [
    "pip install scikit-learn"
   ]
  },
  {
   "cell_type": "code",
   "execution_count": 4,
   "id": "8424af36-3c2c-4d2a-9ff0-79702100d0f1",
   "metadata": {},
   "outputs": [
    {
     "name": "stdout",
     "output_type": "stream",
     "text": [
      ".. _iris_dataset:\n",
      "\n",
      "Iris plants dataset\n",
      "--------------------\n",
      "\n",
      "**Data Set Characteristics:**\n",
      "\n",
      ":Number of Instances: 150 (50 in each of three classes)\n",
      ":Number of Attributes: 4 numeric, predictive attributes and the class\n",
      ":Attribute Information:\n",
      "    - sepal length in cm\n",
      "    - sepal width in cm\n",
      "    - petal length in cm\n",
      "    - petal width in cm\n",
      "    - class:\n",
      "            - Iris-Setosa\n",
      "            - Iris-Versicolour\n",
      "            - Iris-Virginica\n",
      "\n",
      ":Summary Statistics:\n",
      "\n",
      "============== ==== ==== ======= ===== ====================\n",
      "                Min  Max   Mean    SD   Class Correlation\n",
      "============== ==== ==== ======= ===== ====================\n",
      "sepal length:   4.3  7.9   5.84   0.83    0.7826\n",
      "sepal width:    2.0  4.4   3.05   0.43   -0.4194\n",
      "petal length:   1.0  6.9   3.76   1.76    0.9490  (high!)\n",
      "petal width:    0.1  2.5   1.20   0.76    0.9565  (high!)\n",
      "============== ==== ==== ======= ===== ====================\n",
      "\n",
      ":Missing Attribute Values: None\n",
      ":Class Distribution: 33.3% for each of 3 classes.\n",
      ":Creator: R.A. Fisher\n",
      ":Donor: Michael Marshall (MARSHALL%PLU@io.arc.nasa.gov)\n",
      ":Date: July, 1988\n",
      "\n",
      "The famous Iris database, first used by Sir R.A. Fisher. The dataset is taken\n",
      "from Fisher's paper. Note that it's the same as in R, but not as in the UCI\n",
      "Machine Learning Repository, which has two wrong data points.\n",
      "\n",
      "This is perhaps the best known database to be found in the\n",
      "pattern recognition literature.  Fisher's paper is a classic in the field and\n",
      "is referenced frequently to this day.  (See Duda & Hart, for example.)  The\n",
      "data set contains 3 classes of 50 instances each, where each class refers to a\n",
      "type of iris plant.  One class is linearly separable from the other 2; the\n",
      "latter are NOT linearly separable from each other.\n",
      "\n",
      ".. dropdown:: References\n",
      "\n",
      "  - Fisher, R.A. \"The use of multiple measurements in taxonomic problems\"\n",
      "    Annual Eugenics, 7, Part II, 179-188 (1936); also in \"Contributions to\n",
      "    Mathematical Statistics\" (John Wiley, NY, 1950).\n",
      "  - Duda, R.O., & Hart, P.E. (1973) Pattern Classification and Scene Analysis.\n",
      "    (Q327.D83) John Wiley & Sons.  ISBN 0-471-22361-1.  See page 218.\n",
      "  - Dasarathy, B.V. (1980) \"Nosing Around the Neighborhood: A New System\n",
      "    Structure and Classification Rule for Recognition in Partially Exposed\n",
      "    Environments\".  IEEE Transactions on Pattern Analysis and Machine\n",
      "    Intelligence, Vol. PAMI-2, No. 1, 67-71.\n",
      "  - Gates, G.W. (1972) \"The Reduced Nearest Neighbor Rule\".  IEEE Transactions\n",
      "    on Information Theory, May 1972, 431-433.\n",
      "  - See also: 1988 MLC Proceedings, 54-64.  Cheeseman et al\"s AUTOCLASS II\n",
      "    conceptual clustering system finds 3 classes in the data.\n",
      "  - Many, many more ...\n",
      "\n"
     ]
    }
   ],
   "source": [
    "# iris 데이터셋 읽기\n",
    "from sklearn import datasets\n",
    "\n",
    "d = datasets.load_iris() # iris 데이터셋을 읽고 객체 d에 저장\n",
    "print(d.DESCR) # 객체 d의 DESCR 변수 출력 -> DESCR: iris 데이터 셋에 대한 설명문 제공"
   ]
  },
  {
   "cell_type": "code",
   "execution_count": 2,
   "id": "6b62d072-cac1-42eb-9007-b6388c235db2",
   "metadata": {},
   "outputs": [
    {
     "name": "stdout",
     "output_type": "stream",
     "text": [
      "1 [5.1 3.5 1.4 0.2] 0\n",
      "2 [4.9 3.  1.4 0.2] 0\n",
      "3 [4.7 3.2 1.3 0.2] 0\n",
      "4 [4.6 3.1 1.5 0.2] 0\n",
      "5 [5.  3.6 1.4 0.2] 0\n",
      "6 [5.4 3.9 1.7 0.4] 0\n",
      "7 [4.6 3.4 1.4 0.3] 0\n",
      "8 [5.  3.4 1.5 0.2] 0\n",
      "9 [4.4 2.9 1.4 0.2] 0\n",
      "10 [4.9 3.1 1.5 0.1] 0\n",
      "11 [5.4 3.7 1.5 0.2] 0\n",
      "12 [4.8 3.4 1.6 0.2] 0\n",
      "13 [4.8 3.  1.4 0.1] 0\n",
      "14 [4.3 3.  1.1 0.1] 0\n",
      "15 [5.8 4.  1.2 0.2] 0\n",
      "16 [5.7 4.4 1.5 0.4] 0\n",
      "17 [5.4 3.9 1.3 0.4] 0\n",
      "18 [5.1 3.5 1.4 0.3] 0\n",
      "19 [5.7 3.8 1.7 0.3] 0\n",
      "20 [5.1 3.8 1.5 0.3] 0\n",
      "21 [5.4 3.4 1.7 0.2] 0\n",
      "22 [5.1 3.7 1.5 0.4] 0\n",
      "23 [4.6 3.6 1.  0.2] 0\n",
      "24 [5.1 3.3 1.7 0.5] 0\n",
      "25 [4.8 3.4 1.9 0.2] 0\n",
      "26 [5.  3.  1.6 0.2] 0\n",
      "27 [5.  3.4 1.6 0.4] 0\n",
      "28 [5.2 3.5 1.5 0.2] 0\n",
      "29 [5.2 3.4 1.4 0.2] 0\n",
      "30 [4.7 3.2 1.6 0.2] 0\n",
      "31 [4.8 3.1 1.6 0.2] 0\n",
      "32 [5.4 3.4 1.5 0.4] 0\n",
      "33 [5.2 4.1 1.5 0.1] 0\n",
      "34 [5.5 4.2 1.4 0.2] 0\n",
      "35 [4.9 3.1 1.5 0.2] 0\n",
      "36 [5.  3.2 1.2 0.2] 0\n",
      "37 [5.5 3.5 1.3 0.2] 0\n",
      "38 [4.9 3.6 1.4 0.1] 0\n",
      "39 [4.4 3.  1.3 0.2] 0\n",
      "40 [5.1 3.4 1.5 0.2] 0\n",
      "41 [5.  3.5 1.3 0.3] 0\n",
      "42 [4.5 2.3 1.3 0.3] 0\n",
      "43 [4.4 3.2 1.3 0.2] 0\n",
      "44 [5.  3.5 1.6 0.6] 0\n",
      "45 [5.1 3.8 1.9 0.4] 0\n",
      "46 [4.8 3.  1.4 0.3] 0\n",
      "47 [5.1 3.8 1.6 0.2] 0\n",
      "48 [4.6 3.2 1.4 0.2] 0\n",
      "49 [5.3 3.7 1.5 0.2] 0\n",
      "50 [5.  3.3 1.4 0.2] 0\n",
      "51 [7.  3.2 4.7 1.4] 1\n",
      "52 [6.4 3.2 4.5 1.5] 1\n",
      "53 [6.9 3.1 4.9 1.5] 1\n",
      "54 [5.5 2.3 4.  1.3] 1\n",
      "55 [6.5 2.8 4.6 1.5] 1\n",
      "56 [5.7 2.8 4.5 1.3] 1\n",
      "57 [6.3 3.3 4.7 1.6] 1\n",
      "58 [4.9 2.4 3.3 1. ] 1\n",
      "59 [6.6 2.9 4.6 1.3] 1\n",
      "60 [5.2 2.7 3.9 1.4] 1\n",
      "61 [5.  2.  3.5 1. ] 1\n",
      "62 [5.9 3.  4.2 1.5] 1\n",
      "63 [6.  2.2 4.  1. ] 1\n",
      "64 [6.1 2.9 4.7 1.4] 1\n",
      "65 [5.6 2.9 3.6 1.3] 1\n",
      "66 [6.7 3.1 4.4 1.4] 1\n",
      "67 [5.6 3.  4.5 1.5] 1\n",
      "68 [5.8 2.7 4.1 1. ] 1\n",
      "69 [6.2 2.2 4.5 1.5] 1\n",
      "70 [5.6 2.5 3.9 1.1] 1\n",
      "71 [5.9 3.2 4.8 1.8] 1\n",
      "72 [6.1 2.8 4.  1.3] 1\n",
      "73 [6.3 2.5 4.9 1.5] 1\n",
      "74 [6.1 2.8 4.7 1.2] 1\n",
      "75 [6.4 2.9 4.3 1.3] 1\n",
      "76 [6.6 3.  4.4 1.4] 1\n",
      "77 [6.8 2.8 4.8 1.4] 1\n",
      "78 [6.7 3.  5.  1.7] 1\n",
      "79 [6.  2.9 4.5 1.5] 1\n",
      "80 [5.7 2.6 3.5 1. ] 1\n",
      "81 [5.5 2.4 3.8 1.1] 1\n",
      "82 [5.5 2.4 3.7 1. ] 1\n",
      "83 [5.8 2.7 3.9 1.2] 1\n",
      "84 [6.  2.7 5.1 1.6] 1\n",
      "85 [5.4 3.  4.5 1.5] 1\n",
      "86 [6.  3.4 4.5 1.6] 1\n",
      "87 [6.7 3.1 4.7 1.5] 1\n",
      "88 [6.3 2.3 4.4 1.3] 1\n",
      "89 [5.6 3.  4.1 1.3] 1\n",
      "90 [5.5 2.5 4.  1.3] 1\n",
      "91 [5.5 2.6 4.4 1.2] 1\n",
      "92 [6.1 3.  4.6 1.4] 1\n",
      "93 [5.8 2.6 4.  1.2] 1\n",
      "94 [5.  2.3 3.3 1. ] 1\n",
      "95 [5.6 2.7 4.2 1.3] 1\n",
      "96 [5.7 3.  4.2 1.2] 1\n",
      "97 [5.7 2.9 4.2 1.3] 1\n",
      "98 [6.2 2.9 4.3 1.3] 1\n",
      "99 [5.1 2.5 3.  1.1] 1\n",
      "100 [5.7 2.8 4.1 1.3] 1\n",
      "101 [6.3 3.3 6.  2.5] 2\n",
      "102 [5.8 2.7 5.1 1.9] 2\n",
      "103 [7.1 3.  5.9 2.1] 2\n",
      "104 [6.3 2.9 5.6 1.8] 2\n",
      "105 [6.5 3.  5.8 2.2] 2\n",
      "106 [7.6 3.  6.6 2.1] 2\n",
      "107 [4.9 2.5 4.5 1.7] 2\n",
      "108 [7.3 2.9 6.3 1.8] 2\n",
      "109 [6.7 2.5 5.8 1.8] 2\n",
      "110 [7.2 3.6 6.1 2.5] 2\n",
      "111 [6.5 3.2 5.1 2. ] 2\n",
      "112 [6.4 2.7 5.3 1.9] 2\n",
      "113 [6.8 3.  5.5 2.1] 2\n",
      "114 [5.7 2.5 5.  2. ] 2\n",
      "115 [5.8 2.8 5.1 2.4] 2\n",
      "116 [6.4 3.2 5.3 2.3] 2\n",
      "117 [6.5 3.  5.5 1.8] 2\n",
      "118 [7.7 3.8 6.7 2.2] 2\n",
      "119 [7.7 2.6 6.9 2.3] 2\n",
      "120 [6.  2.2 5.  1.5] 2\n",
      "121 [6.9 3.2 5.7 2.3] 2\n",
      "122 [5.6 2.8 4.9 2. ] 2\n",
      "123 [7.7 2.8 6.7 2. ] 2\n",
      "124 [6.3 2.7 4.9 1.8] 2\n",
      "125 [6.7 3.3 5.7 2.1] 2\n",
      "126 [7.2 3.2 6.  1.8] 2\n",
      "127 [6.2 2.8 4.8 1.8] 2\n",
      "128 [6.1 3.  4.9 1.8] 2\n",
      "129 [6.4 2.8 5.6 2.1] 2\n",
      "130 [7.2 3.  5.8 1.6] 2\n",
      "131 [7.4 2.8 6.1 1.9] 2\n",
      "132 [7.9 3.8 6.4 2. ] 2\n",
      "133 [6.4 2.8 5.6 2.2] 2\n",
      "134 [6.3 2.8 5.1 1.5] 2\n",
      "135 [6.1 2.6 5.6 1.4] 2\n",
      "136 [7.7 3.  6.1 2.3] 2\n",
      "137 [6.3 3.4 5.6 2.4] 2\n",
      "138 [6.4 3.1 5.5 1.8] 2\n",
      "139 [6.  3.  4.8 1.8] 2\n",
      "140 [6.9 3.1 5.4 2.1] 2\n",
      "141 [6.7 3.1 5.6 2.4] 2\n",
      "142 [6.9 3.1 5.1 2.3] 2\n",
      "143 [5.8 2.7 5.1 1.9] 2\n",
      "144 [6.8 3.2 5.9 2.3] 2\n",
      "145 [6.7 3.3 5.7 2.5] 2\n",
      "146 [6.7 3.  5.2 2.3] 2\n",
      "147 [6.3 2.5 5.  1.9] 2\n",
      "148 [6.5 3.  5.2 2. ] 2\n",
      "149 [6.2 3.4 5.4 2.3] 2\n",
      "150 [5.9 3.  5.1 1.8] 2\n"
     ]
    }
   ],
   "source": [
    "# iris 데이터셋 읽기\n",
    "from sklearn import datasets\n",
    "\n",
    "d = datasets.load_iris() # iris 데이터셋을 읽고 객체 d에 저장\n",
    "# print(d.DESCR) 객체 d의 DESCR 변수 출력 -> DESCR: iris 데이터 셋에 대한 설명문 제공\n",
    "\n",
    "for i in range(0, len(d.data)):         # d.data[i] : iris의 i번째 샘플의 특징 벡터 \n",
    "    print(i+1, d.data[i],d.target[i])   # d.target[i] : i 번째 샘플이 어떤 부류에 속하는지 알려줌\n",
    "# 결과를 보면 Setosa에 속하는 50개 샘플이 맨 앞에, 그 다음 Versicolor, Virginica 부류임                           "
   ]
  },
  {
   "cell_type": "code",
   "execution_count": 3,
   "id": "6a502076-f1d4-4293-b804-1013108b9b1a",
   "metadata": {},
   "outputs": [
    {
     "name": "stdout",
     "output_type": "stream",
     "text": [
      "새로운 2개 샘플의 부류는 [2 1]\n"
     ]
    }
   ],
   "source": [
    "# iris에 기계 학습 적용: 모델링과 예측\n",
    "\n",
    "from sklearn import svm\n",
    "\n",
    "s = svm.SVC(gamma=0.1, C=10) # svm 분류 모델 SVC를 생성해 객체 s에 저장\n",
    "s.fit(d.data, d.target) # fit 함수를 이용해 iris 데이터(훈련 집합)로 학습 \n",
    "\n",
    "new_d=[[6.4, 3.2, 6.0, 2.5], [7.1, 3.1, 4.7, 1.35]] # 101번째와 51번째 샘플을 변형하여 새로운 데이터 생성 \n",
    "\n",
    "res = s.predict(new_d) # 테스트 집합\n",
    "print(\"새로운 2개 샘플의 부류는\", res)"
   ]
  },
  {
   "cell_type": "code",
   "execution_count": 5,
   "id": "5d429f96-6bf1-4f1c-945d-ca61f790c84c",
   "metadata": {},
   "outputs": [],
   "source": [
    "# iris 데이터의 분포를 특징 공간에 그리기\n",
    "import plotly.express as px\n",
    "\n",
    "df = px.data.iris()\n",
    "fig = px.scatter_3d(df , x='sepal_length', y='sepal_width', z='petal_width', color='species') # petal_length를 제외하여 3차원 공간 구성\n",
    "fig.show(renderer=\"browser\")"
   ]
  },
  {
   "cell_type": "code",
   "execution_count": 13,
   "id": "90b4bf0e-e7f3-4f6b-88d2-e8ef74548169",
   "metadata": {},
   "outputs": [
    {
     "data": {
      "image/png": "[encoded data removed]",
      "text/plain": [
       "<Figure size 500x500 with 1 Axes>"
      ]
     },
     "metadata": {},
     "output_type": "display_data"
    },
    {
     "name": "stdout",
     "output_type": "stream",
     "text": [
      "[ 0.  0.  5. 13.  9.  1.  0.  0.  0.  0. 13. 15. 10. 15.  5.  0.  0.  3.\n",
      " 15.  2.  0. 11.  8.  0.  0.  4. 12.  0.  0.  8.  8.  0.  0.  5.  8.  0.\n",
      "  0.  9.  8.  0.  0.  4. 11.  0.  1. 12.  7.  0.  0.  2. 14.  5. 10. 12.\n",
      "  0.  0.  0.  0.  6. 13. 10.  0.  0.  0.]\n",
      "이 숫자는  0 입니다.\n"
     ]
    }
   ],
   "source": [
    "# 필기 숫자 데이터\n",
    "from sklearn import datasets\n",
    "import matplotlib.pyplot as plt\n",
    "\n",
    "digit = datasets.load_digits()\n",
    "\n",
    "plt.figure(figsize=(5,5))\n",
    "plt.imshow(digit.images[0], cmap=plt.cm.gray_r, interpolation = 'nearest') # 0번 샘플을 그림 \n",
    "\n",
    "plt.show()\n",
    "print(digit.data[0]) # 0번 샘플의 화솟값을 출력\n",
    "print(\"이 숫자는 \",digit.target[0],\"입니다.\")"
   ]
  },
  {
   "cell_type": "code",
   "execution_count": 9,
   "id": "f88eae37-8542-45a8-9535-a91b76c03304",
   "metadata": {},
   "outputs": [
    {
     "data": {
      "image/png": "[encoded data removed]",
      "text/plain": [
       "<Figure size 2000x500 with 8 Axes>"
      ]
     },
     "metadata": {},
     "output_type": "display_data"
    }
   ],
   "source": [
    "#lfw 유명인 얼굴 데이터셋 \n",
    "\n",
    "from sklearn import datasets\n",
    "import matplotlib.pyplot as plt\n",
    "\n",
    "lfw = datasets.fetch_lfw_people(min_faces_per_person=70, resize=0.4) #데이터셋 읽기\n",
    "\n",
    "plt.figure(figsize=(20,5)) # 가로, 세로 인치 \n",
    "\n",
    "for i in range(8): # 처음 8명을 디스플레이\n",
    "    plt.subplot(1,8,i+1)\n",
    "    plt.imshow(lfw.images[i],cmap=plt.cm.bone)\n",
    "    plt.title(lfw.target_names[lfw.target[i]])\n",
    "\n",
    "plt.show()"
   ]
  },
  {
   "cell_type": "code",
   "execution_count": 12,
   "id": "a65b2509-84b4-4905-bd34-a7c1970a4b3d",
   "metadata": {},
   "outputs": [
    {
     "name": "stdout",
     "output_type": "stream",
     "text": [
      "*****\n",
      " From: lerxst@wam.umd.edu (where's my thing)\n",
      "Subject: WHAT car is this!?\n",
      "Nntp-Posting-Host: rac3.wam.umd.edu\n",
      "Organization: University of Maryland, College Park\n",
      "Lines: 15\n",
      "\n",
      " I was wondering if anyone out there could enlighten me on this car I saw\n",
      "the other day. It was a 2-door sports car, looked to be from the late 60s/\n",
      "early 70s. It was called a Bricklin. The doors were really small. In addition,\n",
      "the front bumper was separate from the rest of the body. This is \n",
      "all I know. If anyone can tellme a model name, engine specs, years\n",
      "of production, where this car is made, history, or whatever info you\n",
      "have on this funky looking car, please e-mail.\n",
      "\n",
      "Thanks,\n",
      "- IL\n",
      "   ---- brought to you by your neighborhood Lerxst ----\n",
      "\n",
      "\n",
      "\n",
      "\n",
      " \n",
      "*****\n",
      "이 문서의 부류는 < rec.autos > 입니다.\n"
     ]
    }
   ],
   "source": [
    "# 20newsgroups 데이터셋 \n",
    "\n",
    "from sklearn import datasets\n",
    "\n",
    "news = datasets.fetch_20newsgroups(subset='train') #데이터 셋 읽기\n",
    "print('*****\\n', news.data[0], '\\n*****') # 0번 샘플 출력\n",
    "print('이 문서의 부류는 <', news.target_names[news.target[0]],'> 입니다.')"
   ]
  },
  {
   "cell_type": "code",
   "execution_count": 15,
   "id": "39bb7731-0511-44e9-973c-1e1ca9f3f986",
   "metadata": {},
   "outputs": [
    {
     "name": "stdout",
     "output_type": "stream",
     "text": [
      "예측값은 [0 1 2]\n",
      "참값은 0 1 2\n",
      "화소 특징을 사용했을 때 정확률= 100.0 %\n"
     ]
    }
   ],
   "source": [
    "# 필기 숫자 인식 - 각 화소를 특징으로 간주하여 64차원 특징 벡터 사용 \n",
    "\n",
    "from sklearn import datasets\n",
    "from sklearn import svm \n",
    "\n",
    "digit = datasets.load_digits()\n",
    "\n",
    "# svm의 분류기 모델 SC를 학습\n",
    "s = svm.SVC(gamma=0.1, C=10)\n",
    "s.fit(digit.data,digit.target) # digit 데이터로 모델링\n",
    "\n",
    "# 훈련 집합의 앞에 있는 샘플 3개를 새로운 샘플로 간주하는 인식해봄\n",
    "new_d = [digit.data[0],digit.data[1],digit.data[2]]\n",
    "res = s.predict(new_d)\n",
    "print(\"예측값은\", res)\n",
    "print(\"참값은\", digit.target[0],digit.target[1], digit.target[2])\n",
    "\n",
    "# 훈련 집합을 테스트 집합으로 간주하여 인식해보고 정확률을 측정\n",
    "res = s.predict(digit.data)\n",
    "correct = [i for i in range(len(res)) if res[i]==digit.target[i]]\n",
    "accuracy = len(correct)/len(res)\n",
    "print(\"화소 특징을 사용했을 때 정확률=\", accuracy*100,\"%\")"
   ]
  },
  {
   "cell_type": "code",
   "execution_count": 16,
   "id": "97a3d517-1da3-4a71-8221-fe1fe1bdaf83",
   "metadata": {},
   "outputs": [
    {
     "name": "stdout",
     "output_type": "stream",
     "text": [
      "[[74.  0.  0.  0.  0.  0.  0.  0.  0.  0.]\n",
      " [ 0. 64.  0.  0.  0.  0.  0.  0.  2.  0.]\n",
      " [ 0.  0. 75.  0.  0.  0.  0.  0.  0.  0.]\n",
      " [ 0.  0.  0. 76.  0.  0.  0.  0.  0.  0.]\n",
      " [ 1.  0.  0.  0. 71.  0.  0.  0.  0.  0.]\n",
      " [ 0.  0.  0.  0.  0. 74.  0.  0.  0.  0.]\n",
      " [ 0.  0.  0.  0.  0.  0. 74.  0.  0.  0.]\n",
      " [ 0.  0.  0.  0.  0.  0.  0. 67.  0.  0.]\n",
      " [ 0.  0.  0.  0.  1.  0.  1.  1. 64.  2.]\n",
      " [ 0.  0.  0.  0.  0.  1.  0.  1.  0. 70.]]\n",
      "테스트 집합에 대한 정확률은 98.60917941585535 %입니다.\n"
     ]
    }
   ],
   "source": [
    "# 필기 숫자 인식 - 훈련 집합으로 학습하고 테스트 집합으로 성능 측정\n",
    "\n",
    "from sklearn import datasets\n",
    "from sklearn import svm\n",
    "from sklearn.model_selection import train_test_split\n",
    "import numpy as np\n",
    "\n",
    "# 데이터셋을 읽고 훈련 집합과 테스트 집합으로 분할\n",
    "digit = datasets.load_digits()\n",
    "x_train,x_test,y_train,y_test = train_test_split(digit.data,digit.target,train_size=0.6)\n",
    "\n",
    "# svm의 분류 모델 SVC를 학습\n",
    "s = svm.SVC(gamma=0.001)\n",
    "s.fit(x_train,y_train)\n",
    "\n",
    "res = s.predict(x_test)\n",
    "\n",
    "# 혼동 행렬 구함\n",
    "conf = np.zeros((10,10))\n",
    "for i in range(len(res)):\n",
    "    conf[res[i]][y_test[i]]+=1\n",
    "print(conf)\n",
    "\n",
    "# 정확률 측정하고 출력\n",
    "no_correct = 0\n",
    "for i in range(10):\n",
    "    no_correct += conf[i][i]\n",
    "accuracy = no_correct/len(res)\n",
    "print(\"테스트 집합에 대한 정확률은\", accuracy *100, \"%입니다.\")"
   ]
  },
  {
   "cell_type": "code",
   "execution_count": 18,
   "id": "fa281586-90eb-4a8b-a8b8-fb34d27b21d2",
   "metadata": {},
   "outputs": [
    {
     "name": "stdout",
     "output_type": "stream",
     "text": [
      "[0.975      0.95       0.98328691 0.99164345 0.96100279]\n",
      "정확률(평균)=97.219, 표준편차 =0.015\n"
     ]
    }
   ],
   "source": [
    "# 필기 숫자 인식 - 교차 검증으로 성능 측정\n",
    "\n",
    "from sklearn import datasets\n",
    "from sklearn import svm\n",
    "from sklearn.model_selection import cross_val_score\n",
    "import numpy as np\n",
    "\n",
    "digit = datasets.load_digits()\n",
    "s = svm.SVC(gamma=0.001)\n",
    "accuracies = cross_val_score(s,digit.data,digit.target,cv=5) #5겹 교차 검증\n",
    "\n",
    "print(accuracies)\n",
    "print(\"정확률(평균)=%0.3f, 표준편차 =%0.3f\"%(accuracies.mean()*100,accuracies.std()))"
   ]
  },
  {
   "cell_type": "code",
   "execution_count": 20,
   "id": "2e71144b-8f0d-4cfa-95cc-e3aa953913a3",
   "metadata": {},
   "outputs": [
    {
     "name": "stdout",
     "output_type": "stream",
     "text": [
      "Accuracy:  1.0\n"
     ]
    }
   ],
   "source": [
    "# 기본적인 SVC 모델 학습\n",
    "\n",
    "from sklearn.svm import SVC\n",
    "from sklearn.datasets import load_iris\n",
    "from sklearn.model_selection import train_test_split\n",
    "\n",
    "# 데이터 로드\n",
    "iris = load_iris()\n",
    "X_train, X_test, y_train, y_test = train_test_split(iris.data, iris.target, test_size = 0.3, random_state=42)\n",
    "\n",
    "# SVM 모델 생성 (기본 : rbf 커널)\n",
    "clf = SVC(C=1.0, kernel='rbf', gamma='scale')\n",
    "\n",
    "# 모델 학습\n",
    "clf.fit(X_train,y_train)\n",
    "\n",
    "# 예측\n",
    "y_pred = clf.predict(X_test)\n",
    "\n",
    "#정확도 출력\n",
    "from sklearn.metrics import accuracy_score\n",
    "print(\"Accuracy: \", accuracy_score(y_test, y_pred))"
   ]
  },
  {
   "cell_type": "code",
   "execution_count": 22,
   "id": "b32f20d2-e9ca-4948-ba80-9387e67975eb",
   "metadata": {},
   "outputs": [
    {
     "name": "stdout",
     "output_type": "stream",
     "text": [
      "Kernel: linear, Accuracy: 1.0000\n",
      "Kernel: poly, Accuracy: 0.9778\n",
      "Kernel: rbf, Accuracy: 1.0000\n",
      "Kernel: sigmoid, Accuracy: 0.2222\n"
     ]
    }
   ],
   "source": [
    "# 다양한 커널을 실험\n",
    "kernels = ['linear', 'poly', 'rbf', 'sigmoid']\n",
    "for kernel in kernels:\n",
    "    clf = SVC(kernel=kernel)\n",
    "    clf.fit(X_train, y_train)\n",
    "    print(f\"Kernel: {kernel}, Accuracy: {clf.score(X_test, y_test):.4f}\")"
   ]
  }
 ],
 "metadata": {
  "kernelspec": {
   "display_name": "Python 3 (ipykernel)",
   "language": "python",
   "name": "python3"
  },
  "language_info": {
   "codemirror_mode": {
    "name": "ipython",
    "version": 3
   },
   "file_extension": ".py",
   "mimetype": "text/x-python",
   "name": "python",
   "nbconvert_exporter": "python",
   "pygments_lexer": "ipython3",
   "version": "3.12.7"
  }
 },
 "nbformat": 4,
 "nbformat_minor": 5
}
